{
 "cells": [
  {
   "cell_type": "markdown",
   "metadata": {},
   "source": [
    "# Part 2: Database Design Docs\n",
    "In this assignment you use Markdown and Lucidchart to write documentation for the Baseball database. "
   ]
  },
  {
   "cell_type": "markdown",
   "metadata": {},
   "source": [
    "## Draw a ERD using Lucidchart\n",
    "1. Log into your @student.fairfield.edu Google drive. (Note it can't be your fairfield.edu or personal Google account. Fairfield University has a site license for Lucidchart that is domain limited to student.fairfield.edu.)\n",
    "2. Launch Lucidchart from the \"New\" menu at the top right of your drive window. You will need to ask for \"More\" apps to see it.  \n",
    "![LaunchLucidchart](img/LaunchLucidchart.png)\n",
    "3. Lucidchart will ask you to select a Template. On the right hand side choose Entity Relationship Diagram and then select Blank ERD from the options on the left. You should `rename` the file to \"BaseballStatsDatabase\" or something similar.    \n",
    "![BlankERD](img/BlankERD.png)\n",
    "4. The good news ... Lucidchart can draw an ERD from a live database server via it's import feature.   \n",
    "The bad news ... Lucidchart doesn't support SQLite, so we're going to have to do it manually.  \n",
    "To keep things simple, we can copy and paste from the SQL queries we ran in Part 1. \n",
    "5. Drag an entity shape from the left panel onto the canvas.  \n",
    "![FirstEntity](img/FirstEntity.png)\n",
    "6. We'll start with the `Master` table. Fill out the table name at the top and a few selected fields below: playerid, nameFirst, nameLast, weight, height. (You will have to increase the number of fields from 3 to 6.) Use `...` (elipsis) in the sixth field to indicate that there are more. Then set the entity header to \"SHADED HEADER\" and underline the \"playerID\" field to indicate that it is a primary key field. \n",
    "![MasterEntity](img/MasterEntity.png)\n",
    "7. Next look at your candidate keys from Part 1 to select the next entity. How about Batting, which looks to be linked to the Master table through the playerId field?  Copy and paste your Master entity to get a quick copy. Rename the entity to \"Batting\". Then add in a few fields, takig care to include all primary keys, and finish with an elipsis. \n",
    "8. We need to Connect the two entities. Click on the Master entity. Then on the side closest to the Batting entity, drag one of the little circles (to create a connector) and pull it until it connects to the Batting entity.  \n",
    "![Master2Batting_a.png](img/Master2Batting_a.png)\n",
    "9. Adjust the connection to indicate optional/required relationship. Click on the connector and select the end points as show below.  \n",
    "![RelationshipRequired](img/RelationshipRequired.png)\n",
    "10. Save your work before something bad happens. \n",
    "11. Continue on for the rest of the entities, building from the center outward. It will be tricky sometimes figuring out the exact relationships because we don't have any foreign keys defined. (Ugh.) You will also need to tae care with the placement of the entities so as to avoid crossing relationships. Do your best and see how it works. Don't forget to ave periodically. \n",
    "12. Download your work to a \"PNG with transparent background.\" If the diagram is huge then you may want to crop to \"custom\" dimensions. (If you select \"crop to content\" then it includes the \"Directions\" box. Double ugh.)\n"
   ]
  },
  {
   "cell_type": "markdown",
   "metadata": {},
   "source": [
    "## Add the new PNG to this Notebook. \n",
    "1. Upload the ERD PNG file to the `img` folder adjacent to this notebook. There are several other PNG files already there. \n",
    "2. Change the type of the empty cell below from Code to Markdown. \n",
    "3. Use Markdown syntax we insert an image file (like a PNG) as follows:\n",
    "```\n",
    "![a description for humans](url for the file)\n",
    "```\n",
    "The description is what would be read by a screen reader (i.e., for blind people) in place of the image. Use a relative url like the ones used so far in this notebook. "
   ]
  },
  {
   "cell_type": "markdown",
   "metadata": {},
   "source": [
    "![BaseballERD](./Baseballstats.png)"
   ]
  },
  {
   "cell_type": "markdown",
   "metadata": {},
   "source": [
    "## Save your work. Add all changes to the Git Log. Commit the changes with a meaningful summary comment. Push to GitHub. "
   ]
  }
 ],
 "metadata": {
  "kernelspec": {
   "display_name": "Python 3",
   "language": "python",
   "name": "python3"
  },
  "language_info": {
   "codemirror_mode": {
    "name": "ipython",
    "version": 3
   },
   "file_extension": ".py",
   "mimetype": "text/x-python",
   "name": "python",
   "nbconvert_exporter": "python",
   "pygments_lexer": "ipython3",
   "version": "3.6.5"
  }
 },
 "nbformat": 4,
 "nbformat_minor": 2
}
